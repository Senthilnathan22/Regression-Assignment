{
 "cells": [
  {
   "cell_type": "code",
   "execution_count": 1,
   "id": "68d3613c-d15a-4353-abd2-9eb5406f5ad8",
   "metadata": {},
   "outputs": [],
   "source": [
    "import pickle"
   ]
  },
  {
   "cell_type": "code",
   "execution_count": 4,
   "id": "afa5d131-e73f-499a-9247-36b99b63b085",
   "metadata": {},
   "outputs": [
    {
     "name": "stderr",
     "output_type": "stream",
     "text": [
      "C:\\Users\\Bagirathan\\anaconda3\\Lib\\site-packages\\sklearn\\base.py:493: UserWarning: X does not have valid feature names, but RandomForestRegressor was fitted with feature names\n",
      "  warnings.warn(\n"
     ]
    }
   ],
   "source": [
    "model=pickle.load(open(\"RT_FM.sav\", \"rb\"))\n",
    "result=model.predict([[32, 28, 2, 1,0]])"
   ]
  },
  {
   "cell_type": "code",
   "execution_count": 5,
   "id": "fac07c6a-8ab3-40d8-8513-57a5486ddadd",
   "metadata": {},
   "outputs": [
    {
     "data": {
      "text/plain": [
       "array([5121.126624])"
      ]
     },
     "execution_count": 5,
     "metadata": {},
     "output_type": "execute_result"
    }
   ],
   "source": [
    "result"
   ]
  },
  {
   "cell_type": "code",
   "execution_count": null,
   "id": "b59256cd-9a54-4301-ac8f-5259ebad6cee",
   "metadata": {},
   "outputs": [],
   "source": []
  }
 ],
 "metadata": {
  "kernelspec": {
   "display_name": "Python 3 (ipykernel)",
   "language": "python",
   "name": "python3"
  },
  "language_info": {
   "codemirror_mode": {
    "name": "ipython",
    "version": 3
   },
   "file_extension": ".py",
   "mimetype": "text/x-python",
   "name": "python",
   "nbconvert_exporter": "python",
   "pygments_lexer": "ipython3",
   "version": "3.12.7"
  }
 },
 "nbformat": 4,
 "nbformat_minor": 5
}
